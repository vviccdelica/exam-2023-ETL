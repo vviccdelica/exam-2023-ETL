{
 "cells": [
  {
   "cell_type": "code",
   "execution_count": 1,
   "metadata": {},
   "outputs": [],
   "source": [
    "import pandas as pd\n",
    "import os\n",
    "import sqlite3 as sql3"
   ]
  },
  {
   "cell_type": "code",
   "execution_count": 2,
   "metadata": {},
   "outputs": [],
   "source": [
    "currentdir = os.path.dirname(os.path.abspath(''))\n",
    "db_path = f\"{currentdir}\\\\S30 ETL Assignment.db\""
   ]
  },
  {
   "cell_type": "code",
   "execution_count": 28,
   "metadata": {},
   "outputs": [],
   "source": [
    "# Get table names\n",
    "def get_tabes():\n",
    "    conn = sql3.connect(db_path)\n",
    "    with conn:\n",
    "        cur = conn.cursor()\n",
    "        cur.execute(\"SELECT name FROM sqlite_master WHERE type='table'\")\n",
    "        results = cur.fetchall()\n",
    "        table_names = [x[0] for x in results if 'sqlite_sequence' not in x[0]]\n",
    "    \n",
    "    return table_names\n",
    "\n",
    "# Convert tables to DFs \n",
    "def table_to_df(table_name):\n",
    "    conn = sql3.connect(db_path)\n",
    "    with conn:\n",
    "        cur = conn.cursor()\n",
    "\n",
    "        # Fetch table body\n",
    "        cur.execute(f\"SELECT * FROM {table_name}\")\n",
    "        \n",
    "        table_body = cur.fetchall()\n",
    "\n",
    "        # Fetch table headers\n",
    "        cur.execute(f'PRAGMA table_info({table_name})',)\n",
    "        results = cur.fetchall()\n",
    "        table_headers = [column[1] for column in results]\n",
    "\n",
    "        # Transform to DF\n",
    "        df = pd.DataFrame(table_body, columns=table_headers)\n",
    "\n",
    "    return df"
   ]
  },
  {
   "cell_type": "code",
   "execution_count": 26,
   "metadata": {},
   "outputs": [],
   "source": [
    "# Transofrm SQLite3 DB to a Python Dict of DFs\n",
    "dfs = dict()\n",
    "for table in get_tabes():\n",
    "    dfs[table] = table_to_df(table)"
   ]
  },
  {
   "cell_type": "code",
   "execution_count": 44,
   "metadata": {},
   "outputs": [],
   "source": [
    "# Filter customers by age and merge to sales\n",
    "bool_age_min = dfs['customers']['age'] >= 18\n",
    "bool_age_max = dfs['customers']['age'] <= 35\n",
    "df_customers = dfs['customers'][bool_age_min & bool_age_max]\n",
    "df_customer_sales = df_customers.merge(dfs['sales'],on='customer_id',how='inner')"
   ]
  },
  {
   "cell_type": "code",
   "execution_count": 63,
   "metadata": {},
   "outputs": [],
   "source": [
    "# Merge orders to items, filter out NULL quantities, and remove decimals points (without rounding)\n",
    "df_orders_items = dfs['orders'].merge(dfs['items'],on='item_id',how='inner')[['sales_id','quantity','item_name']]\n",
    "bool_quantity_nulls = df_orders_items['quantity'] > 0\n",
    "df_orders_items = df_orders_items[bool_quantity_nulls]\n",
    "df_orders_items['quantity'] = df_orders_items['quantity'].astype('int64')"
   ]
  },
  {
   "cell_type": "code",
   "execution_count": 68,
   "metadata": {},
   "outputs": [],
   "source": [
    "# Merge all, aggeragte and sort\n",
    "df_merged_all = df_customer_sales.merge(df_orders_items, on='sales_id', how='inner')[['customer_id','age','item_name','quantity']]\n",
    "df_agg = df_merged_all.groupby(['customer_id', 'age', 'item_name'])['quantity'].sum().reset_index()\n",
    "df_final = df_agg.sort_values(by=['customer_id', 'quantity'], ascending=[True, False])"
   ]
  },
  {
   "cell_type": "code",
   "execution_count": 80,
   "metadata": {},
   "outputs": [],
   "source": [
    "df_final.to_csv('test_pandas.csv',sep=';',index=False)"
   ]
  }
 ],
 "metadata": {
  "kernelspec": {
   "display_name": "Python 3",
   "language": "python",
   "name": "python3"
  },
  "language_info": {
   "codemirror_mode": {
    "name": "ipython",
    "version": 3
   },
   "file_extension": ".py",
   "mimetype": "text/x-python",
   "name": "python",
   "nbconvert_exporter": "python",
   "pygments_lexer": "ipython3",
   "version": "3.10.4"
  },
  "orig_nbformat": 4
 },
 "nbformat": 4,
 "nbformat_minor": 2
}
